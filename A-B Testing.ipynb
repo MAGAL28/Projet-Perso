{
 "cells": [
  {
   "cell_type": "markdown",
   "metadata": {},
   "source": [
    "### Chargement des données "
   ]
  },
  {
   "cell_type": "code",
   "execution_count": 4,
   "metadata": {},
   "outputs": [
    {
     "data": {
      "text/html": [
       "<div>\n",
       "<style scoped>\n",
       "    .dataframe tbody tr th:only-of-type {\n",
       "        vertical-align: middle;\n",
       "    }\n",
       "\n",
       "    .dataframe tbody tr th {\n",
       "        vertical-align: top;\n",
       "    }\n",
       "\n",
       "    .dataframe thead th {\n",
       "        text-align: right;\n",
       "    }\n",
       "</style>\n",
       "<table border=\"1\" class=\"dataframe\">\n",
       "  <thead>\n",
       "    <tr style=\"text-align: right;\">\n",
       "      <th></th>\n",
       "      <th>user_id</th>\n",
       "      <th>timestamp</th>\n",
       "      <th>group</th>\n",
       "      <th>landing_page</th>\n",
       "      <th>converted</th>\n",
       "    </tr>\n",
       "  </thead>\n",
       "  <tbody>\n",
       "    <tr>\n",
       "      <th>0</th>\n",
       "      <td>851104</td>\n",
       "      <td>2017-01-21 22:11:48.556739</td>\n",
       "      <td>control</td>\n",
       "      <td>old_page</td>\n",
       "      <td>0</td>\n",
       "    </tr>\n",
       "    <tr>\n",
       "      <th>1</th>\n",
       "      <td>804228</td>\n",
       "      <td>2017-01-12 08:01:45.159739</td>\n",
       "      <td>control</td>\n",
       "      <td>old_page</td>\n",
       "      <td>0</td>\n",
       "    </tr>\n",
       "    <tr>\n",
       "      <th>2</th>\n",
       "      <td>661590</td>\n",
       "      <td>2017-01-11 16:55:06.154213</td>\n",
       "      <td>treatment</td>\n",
       "      <td>new_page</td>\n",
       "      <td>0</td>\n",
       "    </tr>\n",
       "    <tr>\n",
       "      <th>3</th>\n",
       "      <td>853541</td>\n",
       "      <td>2017-01-08 18:28:03.143765</td>\n",
       "      <td>treatment</td>\n",
       "      <td>new_page</td>\n",
       "      <td>0</td>\n",
       "    </tr>\n",
       "    <tr>\n",
       "      <th>4</th>\n",
       "      <td>864975</td>\n",
       "      <td>2017-01-21 01:52:26.210827</td>\n",
       "      <td>control</td>\n",
       "      <td>old_page</td>\n",
       "      <td>1</td>\n",
       "    </tr>\n",
       "  </tbody>\n",
       "</table>\n",
       "</div>"
      ],
      "text/plain": [
       "   user_id                   timestamp      group landing_page  converted\n",
       "0   851104  2017-01-21 22:11:48.556739    control     old_page          0\n",
       "1   804228  2017-01-12 08:01:45.159739    control     old_page          0\n",
       "2   661590  2017-01-11 16:55:06.154213  treatment     new_page          0\n",
       "3   853541  2017-01-08 18:28:03.143765  treatment     new_page          0\n",
       "4   864975  2017-01-21 01:52:26.210827    control     old_page          1"
      ]
     },
     "execution_count": 4,
     "metadata": {},
     "output_type": "execute_result"
    }
   ],
   "source": [
    "import pandas as pd\n",
    "\n",
    "# Chargement des données\n",
    "file_path = r\"C:\\Users\\seck\\Documents\\Projet Perso\\Data Science\\A-B Testing\\A-B Testing\\ab_data.csv\"\n",
    "data = pd.read_csv(file_path)\n",
    "\n",
    "# Aperçu des données\n",
    "data.head()\n",
    "\n",
    "\n"
   ]
  },
  {
   "cell_type": "code",
   "execution_count": 6,
   "metadata": {},
   "outputs": [
    {
     "name": "stdout",
     "output_type": "stream",
     "text": [
      "<bound method DataFrame.info of         user_id                   timestamp      group landing_page  converted\n",
      "0        851104  2017-01-21 22:11:48.556739    control     old_page          0\n",
      "1        804228  2017-01-12 08:01:45.159739    control     old_page          0\n",
      "2        661590  2017-01-11 16:55:06.154213  treatment     new_page          0\n",
      "3        853541  2017-01-08 18:28:03.143765  treatment     new_page          0\n",
      "4        864975  2017-01-21 01:52:26.210827    control     old_page          1\n",
      "...         ...                         ...        ...          ...        ...\n",
      "294473   751197  2017-01-03 22:28:38.630509    control     old_page          0\n",
      "294474   945152  2017-01-12 00:51:57.078372    control     old_page          0\n",
      "294475   734608  2017-01-22 11:45:03.439544    control     old_page          0\n",
      "294476   697314  2017-01-15 01:20:28.957438    control     old_page          0\n",
      "294477   715931  2017-01-16 12:40:24.467417  treatment     new_page          0\n",
      "\n",
      "[294478 rows x 5 columns]>\n",
      "\\Statistiques descriptives\n",
      "             user_id      converted\n",
      "count  294478.000000  294478.000000\n",
      "mean   787974.124733       0.119659\n",
      "std     91210.823776       0.324563\n",
      "min    630000.000000       0.000000\n",
      "25%    709032.250000       0.000000\n",
      "50%    787933.500000       0.000000\n",
      "75%    866911.750000       0.000000\n",
      "max    945999.000000       1.000000\n",
      "\\Valeurs uniqes :\n",
      "user_id         290584\n",
      "timestamp       294478\n",
      "group                2\n",
      "landing_page         2\n",
      "converted            2\n",
      "dtype: int64\n"
     ]
    }
   ],
   "source": [
    "print(data.info)\n",
    "print(\"\\Statistiques descriptives\")\n",
    "print(data.describe())\n",
    "print(\"\\Valeurs uniqes :\")\n",
    "print(data.nunique())"
   ]
  },
  {
   "cell_type": "markdown",
   "metadata": {},
   "source": [
    "### Vérification de la cohérence des données\n",
    "Ajoutons une analyse pour vérifier si chaque groupe (control ou treatment) est associé à la bonne landing page (old_page ou new_page)."
   ]
  },
  {
   "cell_type": "code",
   "execution_count": 7,
   "metadata": {},
   "outputs": [
    {
     "name": "stdout",
     "output_type": "stream",
     "text": [
      "Nombre de lignes incohérentes : 3893\n"
     ]
    }
   ],
   "source": [
    "# Vérification des incohérences entre 'group' et 'landing_page'\n",
    "inconsistent_rows = data[(data['group'] == 'control') & (data['landing_page'] != 'old_page') |\n",
    "                         (data['group'] == 'treatment') & (data['landing_page'] != 'new_page')]\n",
    "\n",
    "print(f\"Nombre de lignes incohérentes : {len(inconsistent_rows)}\")\n"
   ]
  },
  {
   "cell_type": "markdown",
   "metadata": {},
   "source": [
    "### Suppression des lignes incohérentes\n",
    "Si des incohérences sont détectées, nous les supprimons pour garantir une analyse fiable."
   ]
  },
  {
   "cell_type": "code",
   "execution_count": 8,
   "metadata": {},
   "outputs": [
    {
     "name": "stdout",
     "output_type": "stream",
     "text": [
      "Nombre de lignes après nettoyage : 290585\n"
     ]
    }
   ],
   "source": [
    "# Suppression des lignes incohérentes\n",
    "data_cleaned = data[~((data['group'] == 'control') & (data['landing_page'] != 'old_page') |\n",
    "                      (data['group'] == 'treatment') & (data['landing_page'] != 'new_page'))]\n",
    "\n",
    "print(f\"Nombre de lignes après nettoyage : {len(data_cleaned)}\")\n"
   ]
  },
  {
   "cell_type": "code",
   "execution_count": 13,
   "metadata": {},
   "outputs": [
    {
     "data": {
      "text/html": [
       "<div>\n",
       "<style scoped>\n",
       "    .dataframe tbody tr th:only-of-type {\n",
       "        vertical-align: middle;\n",
       "    }\n",
       "\n",
       "    .dataframe tbody tr th {\n",
       "        vertical-align: top;\n",
       "    }\n",
       "\n",
       "    .dataframe thead th {\n",
       "        text-align: right;\n",
       "    }\n",
       "</style>\n",
       "<table border=\"1\" class=\"dataframe\">\n",
       "  <thead>\n",
       "    <tr style=\"text-align: right;\">\n",
       "      <th>landing_page</th>\n",
       "      <th>new_page</th>\n",
       "      <th>old_page</th>\n",
       "    </tr>\n",
       "    <tr>\n",
       "      <th>group</th>\n",
       "      <th></th>\n",
       "      <th></th>\n",
       "    </tr>\n",
       "  </thead>\n",
       "  <tbody>\n",
       "    <tr>\n",
       "      <th>control</th>\n",
       "      <td>1928</td>\n",
       "      <td>145274</td>\n",
       "    </tr>\n",
       "    <tr>\n",
       "      <th>treatment</th>\n",
       "      <td>145311</td>\n",
       "      <td>1965</td>\n",
       "    </tr>\n",
       "  </tbody>\n",
       "</table>\n",
       "</div>"
      ],
      "text/plain": [
       "landing_page  new_page  old_page\n",
       "group                           \n",
       "control           1928    145274\n",
       "treatment       145311      1965"
      ]
     },
     "execution_count": 13,
     "metadata": {},
     "output_type": "execute_result"
    }
   ],
   "source": [
    "data.columns.tolist()\n",
    "pd.crosstab(data['group'],data['landing_page'])"
   ]
  },
  {
   "cell_type": "markdown",
   "metadata": {},
   "source": [
    "### Analyse des taux de conversion\n",
    "Calculons le taux de conversion pour chaque groupe (control et treatment) pour avoir un aperçu initial des performances"
   ]
  },
  {
   "cell_type": "code",
   "execution_count": 9,
   "metadata": {},
   "outputs": [
    {
     "name": "stdout",
     "output_type": "stream",
     "text": [
      "\n",
      "Taux de conversion par groupe :\n",
      "group\n",
      "control      0.120386\n",
      "treatment    0.118807\n",
      "Name: converted, dtype: float64\n"
     ]
    }
   ],
   "source": [
    "# Taux de conversion par groupe\n",
    "conversion_rates = data_cleaned.groupby('group')['converted'].mean()\n",
    "print(\"\\nTaux de conversion par groupe :\")\n",
    "print(conversion_rates)\n"
   ]
  },
  {
   "cell_type": "markdown",
   "metadata": {},
   "source": [
    "### Visualisation des taux de conversion"
   ]
  },
  {
   "cell_type": "code",
   "execution_count": 10,
   "metadata": {},
   "outputs": [
    {
     "data": {
      "image/png": "[encoded data removed]",
      "text/plain": [
       "<Figure size 640x480 with 1 Axes>"
      ]
     },
     "metadata": {},
     "output_type": "display_data"
    }
   ],
   "source": [
    "import matplotlib.pyplot as plt\n",
    "\n",
    "# Visualisation des taux de conversion\n",
    "conversion_rates.plot(kind='bar', color=['blue', 'orange'])\n",
    "plt.title('Taux de conversion par groupe')\n",
    "plt.xlabel('Groupe')\n",
    "plt.ylabel('Taux de conversion')\n",
    "plt.xticks(rotation=0)\n",
    "plt.show()\n"
   ]
  },
  {
   "cell_type": "markdown",
   "metadata": {},
   "source": [
    "### Tests statistiques\n",
    "Ajoutons un test pour déterminer si la différence entre les taux de conversion des deux groupes est statistiquement significative. Pour cela, nous utilisons le ***test Z***\n",
    "\n",
    "Le ***test Z*** pour proportions est utilisé ici parce que nous comparons deux proportions (le taux de conversion des deux groupes : control et treatment)."
   ]
  },
  {
   "cell_type": "code",
   "execution_count": 11,
   "metadata": {},
   "outputs": [
    {
     "name": "stdout",
     "output_type": "stream",
     "text": [
      "\n",
      "Statistique Z : 1.3116075339133115\n",
      "p-value : 0.18965258971881804\n"
     ]
    }
   ],
   "source": [
    "from statsmodels.stats.proportion import proportions_ztest\n",
    "\n",
    "# Données pour le test Z\n",
    "control_converted = data_cleaned[data_cleaned['group'] == 'control']['converted']\n",
    "treatment_converted = data_cleaned[data_cleaned['group'] == 'treatment']['converted']\n",
    "\n",
    "# Calcul des conversions et du nombre total d'observations par groupe\n",
    "successes = [control_converted.sum(), treatment_converted.sum()]\n",
    "n_obs = [control_converted.count(), treatment_converted.count()]\n",
    "\n",
    "# Test Z\n",
    "z_stat, p_value = proportions_ztest(successes, n_obs)\n",
    "print(\"\\nStatistique Z :\", z_stat)\n",
    "print(\"p-value :\", p_value)\n"
   ]
  },
  {
   "cell_type": "markdown",
   "metadata": {},
   "source": [
    "### Conclusion : \n",
    "Si la p-value est inférieure à 0.05, on rejette l'hypothèse nulle (H0) et on conclut qu'il y a une différence significative entre les groupes.\n",
    "\n",
    "Sinon, on accepte H0 et conclut qu'il n'y a pas de différence significative."
   ]
  },
  {
   "cell_type": "markdown",
   "metadata": {},
   "source": [
    "### Interprétation des Résultats\n",
    "\n",
    "#### 1. **Statistique Z : 1.31**\n",
    "La **statistique Z** mesure combien d'écarts-types sépare la différence observée entre les deux proportions de la différence attendue sous l'hypothèse nulle (\\(H_0\\)). Une valeur \\(Z = 1.31\\) n'est pas très élevée, ce qui suggère que la différence entre les taux de conversion des groupes \"control\" et \"treatment\" n'est pas significative.\n",
    "\n",
    "#### 2. **p-value : 0.1896**\n",
    "La **p-value** est de 0.1896. Si on utilise un seuil classique de signification de 0.05 (\\(\\alpha = 0.05\\)) :\n",
    "- \\(p > 0.05\\) : Nous **ne rejetons pas l'hypothèse nulle (\\(H_0\\))**. Cela signifie qu'il n'y a pas de preuve statistiquement significative que les taux de conversion entre les groupes \"control\" et \"treatment\" sont différents.\n",
    "\n",
    "### Conclusion\n",
    "Sur la base de ces résultats :\n",
    "- **Aucune version (landing page)** n'a de performances significativement meilleures que l'autre en termes de taux de conversion.\n",
    "- Les deux pages semblent statistiquement similaires pour convertir les utilisateurs.\n",
    "\n"
   ]
  }
 ],
 "metadata": {
  "kernelspec": {
   "display_name": "base",
   "language": "python",
   "name": "python3"
  },
  "language_info": {
   "codemirror_mode": {
    "name": "ipython",
    "version": 3
   },
   "file_extension": ".py",
   "mimetype": "text/x-python",
   "name": "python",
   "nbconvert_exporter": "python",
   "pygments_lexer": "ipython3",
   "version": "3.11.5"
  }
 },
 "nbformat": 4,
 "nbformat_minor": 2
}
